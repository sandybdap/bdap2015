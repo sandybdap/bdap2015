{
 "cells": [
  {
   "cell_type": "markdown",
   "metadata": {},
   "source": [
    "Please fill up the following\n",
    "* Student Name:\n",
    "* Student ID:\n",
    "* Student Email ID:\n",
    "* Student GitHub Repo URL:"
   ]
  },
  {
   "cell_type": "markdown",
   "metadata": {},
   "source": [
    "# DPSC Assignment 2"
   ]
  },
  {
   "cell_type": "markdown",
   "metadata": {},
   "source": [
    "## Instructions\n",
    "\n",
    "For each of the tasks below, write relevant R code in the cells and execute the cells before submission."
   ]
  },
  {
   "cell_type": "markdown",
   "metadata": {},
   "source": [
    "### Problem 1\n",
    "\n",
    "Consider a digital clock that shows hours and minutes. The day start at 00:00 and ends at 24:00. Assume\n",
    "that the four digits shown in the clock actually is one single number. For example 13:15 is to be interpreted\n",
    "as 1315. How many prime numbers are shown by the digital clock in a day?"
   ]
  },
  {
   "cell_type": "code",
   "execution_count": 1,
   "metadata": {
    "collapsed": false
   },
   "outputs": [
    {
     "name": "stdout",
     "output_type": "stream",
     "text": [
      "[1] \"Total prime numbers shown by the digital clock (in 24hrs format) in a day are  211\"\n"
     ]
    }
   ],
   "source": [
    "\n",
    "rm(list= ls())\n",
    "# Problem 1\n",
    "# Consider a digital clock that shows hours and minutes. \n",
    "# The day start at 00:00 and ends at 24:00. Assume\n",
    "# that the four digits shown in the clock actually is one single number. \n",
    "# For example 13:15 is to be interpreted\n",
    "# as 1315. How many prime numbers are shown by the digital clock in a day?\n",
    "\n",
    "# Create a function to find if a number is Prime or not, if Prime then return Flag == 1\n",
    "isPrime <- function(x)\n",
    "{\n",
    "  flag = 0\n",
    "\n",
    "  if(x > 1) \n",
    "  {\n",
    "    flag = 1\n",
    "    for(i in 2:(x-1)) \n",
    "    {\n",
    "      if ((x %% i) == 0) \n",
    "      {\n",
    "        flag = 0\n",
    "        break\n",
    "      }\n",
    "    }\n",
    "  } \n",
    "  \n",
    "  if (x == 2)  flag = 1\n",
    "  return (flag)\n",
    "}\n",
    "\n",
    "startTime = 00 #Day start time 00:00\n",
    "endTime = 59 #Day end time 00:00\n",
    "cntPrime = 0\n",
    "\n",
    "# Loop on 24 hours of the day\n",
    "for(h in seq(0,2300,100))\n",
    "{\n",
    "  for(m in seq(startTime,endTime))\n",
    "  {\n",
    "      h_m <- m + h\n",
    "      cntPrime = cntPrime + isPrime(h_m) \n",
    "  }\n",
    "}\n",
    "\n",
    "print (paste(\"Total prime numbers shown by the digital clock (in 24hrs format) in a day are \", cntPrime))\n"
   ]
  },
  {
   "cell_type": "markdown",
   "metadata": {},
   "source": [
    "### Problem 2\n",
    "\n",
    "Two friends, A & B, meet every evening and play three games of speed-chess. After the three games, the two\n",
    "friends record the outcomes in a file. A sample illustration of the file is given below, for 4 days:\n",
    "\n",
    "game no| day1 | day2 | day3 | day4\n",
    "-------|------|------|------|------\n",
    "game 1 | 1    | 2    | 1    | 2\n",
    "game 2 | 2    | 2    | 1    | 2\n",
    "game 3 | 1    | 1    | 2    | 2\n",
    "\n",
    "\n",
    "* If A wins, the outcome is coded as 1.\n",
    "* If B wins, the outcome is coded as 2.\n",
    "\n",
    "At the end of three games, the person who wins the maximum number (at least 2 out of 3) is deemed the winner of the day. Assume there is never a draw between the two. The outcomes for each day are stored in **assignment2-q2.csv**.\n",
    "\n",
    "Read the datafile in to your workspace and answer the following questions:\n",
    "\n",
    "* For how long have the friends kept a record of their games?\n",
    "* How many days does B become winner of the day?\n",
    "* How many days did the two friends play the third game, despite knowing the winner of day?"
   ]
  },
  {
   "cell_type": "code",
   "execution_count": 2,
   "metadata": {
    "collapsed": false
   },
   "outputs": [
    {
     "name": "stdout",
     "output_type": "stream",
     "text": [
      "[1] \"The no. of days the friends have maintained the records is == 500\"\n",
      "[1] \"The no. of days Friend B was a winner == 238\"\n",
      "[1] \"The no. of days the friends played 3rd game even when B was a winner == 106\"\n"
     ]
    }
   ],
   "source": [
    "rm(list= ls())\n",
    "\n",
    "gameResults <- read.csv(\"/home/hduser/Documents/myGitDataTasteMaker/bdap2015/Design Patterns in Statistical Computing/data/assignment2-q2.csv\",header = TRUE)\n",
    "ndays <- length(colnames(gameResults))\n",
    "\n",
    "ndaysBWin <- 0\n",
    "ndays3game <- 0\n",
    "\n",
    "for (i in 1:ndays)\n",
    "{\n",
    "  #print  (gameResults[1,i] + gameResults[2,i])\n",
    "  #print (gameResults[3,i])\n",
    "  \n",
    "  if (sum(gameResults[,i]) > 4) ndaysBWin <- ndaysBWin + 1\n",
    "  if (gameResults[1,i] + gameResults[2,i] == 4 & gameResults[3,i] > 0) ndays3game <- ndays3game + 1\n",
    "}\n",
    "\n",
    "print(paste(\"The no. of days the friends have maintained the records is ==\",  ndays))\n",
    "print(paste(\"The no. of days Friend B was a winner ==\",  ndaysBWin))\n",
    "print(paste(\"The no. of days the friends played 3rd game even when B was a winner ==\",  ndays3game))"
   ]
  }
 ],
 "metadata": {
  "kernelspec": {
   "display_name": "R",
   "language": "R",
   "name": "ir"
  },
  "language_info": {
   "codemirror_mode": "r",
   "file_extension": ".r",
   "mimetype": "text/x-r-source",
   "name": "R",
   "pygments_lexer": "r",
   "version": "3.2.2"
  }
 },
 "nbformat": 4,
 "nbformat_minor": 0
}
