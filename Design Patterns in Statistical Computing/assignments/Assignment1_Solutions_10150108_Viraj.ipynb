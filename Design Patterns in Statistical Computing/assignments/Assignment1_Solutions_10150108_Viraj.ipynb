{
 "cells": [
  {
   "cell_type": "markdown",
   "metadata": {},
   "source": [
    "Please fill up the following\n",
    "* Student Name: Viraj\n",
    "* Student ID: 10150108\n",
    "* Student Email ID: viraj.bdapm10150108@spjain.org\n",
    "* Student GitHub Repo URL: https://github.com/DataTasteMaker/"
   ]
  },
  {
   "cell_type": "markdown",
   "metadata": {},
   "source": [
    "# DPSC Assignment 1"
   ]
  },
  {
   "cell_type": "markdown",
   "metadata": {},
   "source": [
    "## Instructions\n",
    "\n",
    "For each of the tasks below, write relevant R code in the cells and execute the cells before submission."
   ]
  },
  {
   "cell_type": "markdown",
   "metadata": {},
   "source": [
    "### Problem 1\n",
    "\n",
    "Is the following a DataFrame?"
   ]
  },
  {
   "cell_type": "markdown",
   "metadata": {
    "collapsed": true
   },
   "source": [
    "control | pre-heated | pre-chilled\n",
    "-------- | ---------- | ----------\n",
    "5.9 | 5.8  | 6.1\n",
    "6.2 | 7.3  | 6.3\n",
    "8.2 | 5.4  | 7.1\n",
    "5.8 | 6.3  | 6.9"
   ]
  },
  {
   "cell_type": "markdown",
   "metadata": {},
   "source": [
    "**Ans: **"
   ]
  },
  {
   "cell_type": "markdown",
   "metadata": {},
   "source": [
    "### Problem 2\n",
    "\n",
    "Import the *titanic.csv* file (present in the *data* folder of the repository, don't move it elsewhere or your pull request will be rejected) and create a statistical summary of the variables. Read the DataFrame into a variable called *titanic*."
   ]
  },
  {
   "cell_type": "code",
   "execution_count": 2,
   "metadata": {
    "collapsed": false
   },
   "outputs": [
    {
     "data": {
      "text/plain": [
       "  PassengerId    Survived Pclass                                     Name    \n",
       " Min.   :  1.0   0:549    1:216   Abbing, Mr. Anthony                  :  1  \n",
       " 1st Qu.:223.5   1:342    2:184   Abbott, Mr. Rossmore Edward          :  1  \n",
       " Median :446.0            3:491   Abbott, Mrs. Stanton (Rosa Hunt)     :  1  \n",
       " Mean   :446.0                    Abelson, Mr. Samuel                  :  1  \n",
       " 3rd Qu.:668.5                    Abelson, Mrs. Samuel (Hannah Wizosky):  1  \n",
       " Max.   :891.0                    Adahl, Mr. Mauritz Nils Martin       :  1  \n",
       "                                  (Other)                              :885  \n",
       "     Sex           Age        SibSp   Parch        Ticket         Fare       \n",
       " female:314   Min.   : 0.42   0:608   0:678   1601    :  7   Min.   :  0.00  \n",
       " male  :577   1st Qu.:20.12   1:209   1:118   347082  :  7   1st Qu.:  7.91  \n",
       "              Median :28.00   2: 28   2: 80   CA. 2343:  7   Median : 14.45  \n",
       "              Mean   :29.70   3: 16   3:  5   3101295 :  6   Mean   : 32.20  \n",
       "              3rd Qu.:38.00   4: 18   4:  4   347088  :  6   3rd Qu.: 31.00  \n",
       "              Max.   :80.00   5:  5   5:  5   CA 2144 :  6   Max.   :512.33  \n",
       "              NA's   :177     8:  7   6:  1   (Other) :852                   \n",
       "         Cabin     Embarked\n",
       "            :687    :  2   \n",
       " B96 B98    :  4   C:168   \n",
       " C23 C25 C27:  4   Q: 77   \n",
       " G6         :  4   S:644   \n",
       " C22 C26    :  3           \n",
       " D          :  3           \n",
       " (Other)    :186           "
      ]
     },
     "execution_count": 2,
     "metadata": {},
     "output_type": "execute_result"
    }
   ],
   "source": [
    "rm(list=ls())\n",
    "# Read the CSV file from the data folder\n",
    "# the file has headers, so we have to inform read.csv() about the same\n",
    "# All the string values are convereted to factors using stringsAsFactors = TRUE\n",
    "titanic <- read.csv(\"/home/hduser/Documents/myGitDataTasteMaker/bdap2015/Design Patterns in Statistical Computing/data/titanic.csv\",header = TRUE, stringsAsFactors = TRUE)\n",
    "\n",
    "#Coerce the values of below 3 variables as factor\n",
    "titanic$Survived <- as.factor(titanic$Survived)\n",
    "titanic$Pclass <- as.factor(titanic$Pclass)\n",
    "titanic$Embarked <- as.factor(titanic$Embarked)\n",
    "\n",
    "# Refered to some websites and understood the below two variables are as below:\n",
    "# http://biostat.mc.vanderbilt.edu/wiki/pub/Main/DataSets/Ctitanic3.html\n",
    "#SibSp == No. of Siblings and Spouses on board\n",
    "#Parch == No. of Parents or Children on board\n",
    "\n",
    "# Coercing these to factor actually helps in understanding the summary well\n",
    "titanic$SibSp <- as.factor(titanic$SibSp)\n",
    "titanic$Parch <- as.factor(titanic$Parch)\n",
    "\n",
    "# Print the summary\n",
    "summary(titanic)"
   ]
  },
  {
   "cell_type": "markdown",
   "metadata": {},
   "source": [
    "### Problem 3\n",
    "\n",
    "For the DataFrame *titanic*\n",
    "\n",
    "* Calculate the mean of all the numeric columns.\n",
    "* Add its column sums to the original matrix as an additional row. Use *NA* for non-numeric columns."
   ]
  },
  {
   "cell_type": "code",
   "execution_count": 5,
   "metadata": {
    "collapsed": false
   },
   "outputs": [
    {
     "name": "stdout",
     "output_type": "stream",
     "text": [
      "[1] \"Mean for Age  29.6991176470588\"\n",
      "[1] \"Mean for Fare  32.2042079685746\"\n"
     ]
    },
    {
     "data": {
      "text/html": [
       "<ol class=list-inline>\n",
       "\t<li>'PassengerId'</li>\n",
       "\t<li>'Survived'</li>\n",
       "\t<li>'Pclass'</li>\n",
       "\t<li>'Name'</li>\n",
       "\t<li>'Sex'</li>\n",
       "\t<li>'Age'</li>\n",
       "\t<li>'SibSp'</li>\n",
       "\t<li>'Parch'</li>\n",
       "\t<li>'Ticket'</li>\n",
       "\t<li>'Fare'</li>\n",
       "\t<li>'Cabin'</li>\n",
       "\t<li>'Embarked'</li>\n",
       "</ol>\n"
      ],
      "text/latex": [
       "\\begin{enumerate*}\n",
       "\\item 'PassengerId'\n",
       "\\item 'Survived'\n",
       "\\item 'Pclass'\n",
       "\\item 'Name'\n",
       "\\item 'Sex'\n",
       "\\item 'Age'\n",
       "\\item 'SibSp'\n",
       "\\item 'Parch'\n",
       "\\item 'Ticket'\n",
       "\\item 'Fare'\n",
       "\\item 'Cabin'\n",
       "\\item 'Embarked'\n",
       "\\end{enumerate*}\n"
      ],
      "text/markdown": [
       "1. 'PassengerId'\n",
       "2. 'Survived'\n",
       "3. 'Pclass'\n",
       "4. 'Name'\n",
       "5. 'Sex'\n",
       "6. 'Age'\n",
       "7. 'SibSp'\n",
       "8. 'Parch'\n",
       "9. 'Ticket'\n",
       "10. 'Fare'\n",
       "11. 'Cabin'\n",
       "12. 'Embarked'\n",
       "\n",
       "\n"
      ],
      "text/plain": [
       " [1] \"PassengerId\" \"Survived\"    \"Pclass\"      \"Name\"        \"Sex\"        \n",
       " [6] \"Age\"         \"SibSp\"       \"Parch\"       \"Ticket\"      \"Fare\"       \n",
       "[11] \"Cabin\"       \"Embarked\"   "
      ]
     },
     "execution_count": 5,
     "metadata": {},
     "output_type": "execute_result"
    },
    {
     "data": {
      "text/html": [
       "<table>\n",
       "<thead><tr><th></th><th scope=col>PassengerId</th><th scope=col>Survived</th><th scope=col>Pclass</th><th scope=col>Name</th><th scope=col>Sex</th><th scope=col>Age</th><th scope=col>SibSp</th><th scope=col>Parch</th><th scope=col>Ticket</th><th scope=col>Fare</th><th scope=col>Cabin</th><th scope=col>Embarked</th></tr></thead>\n",
       "<tbody>\n",
       "\t<tr><th scope=row>887</th><td>887</td><td>0</td><td>2</td><td>Montvila, Rev. Juozas</td><td>male</td><td>27</td><td>1</td><td>1</td><td>211536</td><td>13</td><td></td><td>S</td></tr>\n",
       "\t<tr><th scope=row>888</th><td>888</td><td>1</td><td>1</td><td>Graham, Miss. Margaret Edith</td><td>female</td><td>19</td><td>1</td><td>1</td><td>112053</td><td>30</td><td>B42</td><td>S</td></tr>\n",
       "\t<tr><th scope=row>889</th><td>889</td><td>0</td><td>3</td><td>Johnston, Miss. Catherine Helen \"Carrie\"</td><td>female</td><td>NA</td><td>2</td><td>3</td><td>W./C. 6607</td><td>23.45</td><td></td><td>S</td></tr>\n",
       "\t<tr><th scope=row>890</th><td>890</td><td>1</td><td>1</td><td>Behr, Mr. Karl Howell</td><td>male</td><td>26</td><td>1</td><td>1</td><td>111369</td><td>30</td><td>C148</td><td>C</td></tr>\n",
       "\t<tr><th scope=row>891</th><td>891</td><td>0</td><td>3</td><td>Dooley, Mr. Patrick</td><td>male</td><td>32</td><td>1</td><td>1</td><td>370376</td><td>7.75</td><td></td><td>Q</td></tr>\n",
       "\t<tr><th scope=row>892</th><td>397386</td><td>NA</td><td>NA</td><td>NA</td><td>NA</td><td>21205.17</td><td>1343</td><td>1231</td><td>NA</td><td>28693.95</td><td>NA</td><td>NA</td></tr>\n",
       "</tbody>\n",
       "</table>\n"
      ],
      "text/latex": [
       "\\begin{tabular}{r|llllllllllll}\n",
       "  & PassengerId & Survived & Pclass & Name & Sex & Age & SibSp & Parch & Ticket & Fare & Cabin & Embarked\\\\\n",
       "\\hline\n",
       "\t887 & 887 & 0 & 2 & Montvila, Rev. Juozas & male & 27 & 1 & 1 & 211536 & 13 &  & S\\\\\n",
       "\t888 & 888 & 1 & 1 & Graham, Miss. Margaret Edith & female & 19 & 1 & 1 & 112053 & 30 & B42 & S\\\\\n",
       "\t889 & 889 & 0 & 3 & Johnston, Miss. Catherine Helen \"Carrie\" & female & NA & 2 & 3 & W./C. 6607 & 23.45 &  & S\\\\\n",
       "\t890 & 890 & 1 & 1 & Behr, Mr. Karl Howell & male & 26 & 1 & 1 & 111369 & 30 & C148 & C\\\\\n",
       "\t891 & 891 & 0 & 3 & Dooley, Mr. Patrick & male & 32 & 1 & 1 & 370376 & 7.75 &  & Q\\\\\n",
       "\t892 & 397386 & NA & NA & NA & NA & 21205.17 & 1343 & 1231 & NA & 28693.95 & NA & NA\\\\\n",
       "\\end{tabular}\n"
      ],
      "text/plain": [
       "    PassengerId Survived Pclass                                     Name    Sex\n",
       "887         887        0      2                    Montvila, Rev. Juozas   male\n",
       "888         888        1      1             Graham, Miss. Margaret Edith female\n",
       "889         889        0      3 Johnston, Miss. Catherine Helen \"Carrie\" female\n",
       "890         890        1      1                    Behr, Mr. Karl Howell   male\n",
       "891         891        0      3                      Dooley, Mr. Patrick   male\n",
       "892      397386     <NA>   <NA>                                     <NA>   <NA>\n",
       "         Age SibSp Parch     Ticket     Fare Cabin Embarked\n",
       "887    27.00     1     1     211536    13.00              S\n",
       "888    19.00     1     1     112053    30.00   B42        S\n",
       "889       NA     2     3 W./C. 6607    23.45              S\n",
       "890    26.00     1     1     111369    30.00  C148        C\n",
       "891    32.00     1     1     370376     7.75              Q\n",
       "892 21205.17  1343  1231       <NA> 28693.95  <NA>     <NA>"
      ]
     },
     "execution_count": 5,
     "metadata": {},
     "output_type": "execute_result"
    }
   ],
   "source": [
    "## Create variables to store Mean for Age and Fare - all numeric variables\n",
    "mnAge <- mean(titanic$Age, na.rm = TRUE)\n",
    "mnFare <- mean(titanic$Fare, na.rm = TRUE)\n",
    "print (paste(\"Mean for Age \", mnAge))\n",
    "print (paste(\"Mean for Fare \", mnFare))\n",
    "#Get the position of columns to help us put the data in the Data Frame\n",
    "colnames(titanic)\n",
    "\n",
    "# Create a vector of concatenated list of NAs and Mean values\n",
    "#convert SibSp and Parch to numeric to help calculate the SUM\n",
    "titanic$SibSp <- as.integer(titanic$SibSp)\n",
    "titanic$Parch <- as.integer(titanic$Parch)\n",
    "addRec <- c(sum(titanic$PassengerId, na.rm = TRUE),NA,NA,NA,NA,sum(titanic$Age, na.rm = TRUE), sum(titanic$SibSp, na.rm = TRUE), sum(titanic$Parch, na.rm = TRUE), NA, sum(titanic$Fare, na.rm = TRUE), NA,NA)\n",
    "\n",
    "#Bind the vector to the Data FRame and create a new one\n",
    "titanicMod <- rbind(titanic, addRec)\n",
    "tail(titanicMod)"
   ]
  }
 ],
 "metadata": {
  "kernelspec": {
   "display_name": "R",
   "language": "R",
   "name": "ir"
  },
  "language_info": {
   "codemirror_mode": "r",
   "file_extension": ".r",
   "mimetype": "text/x-r-source",
   "name": "R",
   "pygments_lexer": "r",
   "version": "3.2.2"
  }
 },
 "nbformat": 4,
 "nbformat_minor": 0
}
