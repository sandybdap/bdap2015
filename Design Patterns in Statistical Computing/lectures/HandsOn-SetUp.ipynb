{
 "cells": [
  {
   "cell_type": "markdown",
   "metadata": {
    "slideshow": {
     "slide_type": "slide"
    }
   },
   "source": [
    "# Design Patterns in Statistical Computing 1\n",
    "## Hands-on Part 1: Setting up\n"
   ]
  },
  {
   "cell_type": "markdown",
   "metadata": {
    "slideshow": {
     "slide_type": "subslide"
    }
   },
   "source": [
    "### Installing Anaconda\n",
    "\n",
    "* Download: https://www.continuum.io/downloads\n",
    "    \n",
    "Distribution | Link\n",
    "------------ | -----\n",
    "Linux 64-bit: | https://3230d63b5fc54e62148e-c95ac804525aac4b6dba79b00b39d1d3.ssl.cf1.rackcdn.com/Anaconda-2.3.0-Linux-x86_64.sh\n",
    "Linux 32-bit: | https://3230d63b5fc54e62148e-c95ac804525aac4b6dba79b00b39d1d3.ssl.cf1.rackcdn.com/Anaconda-2.3.0-Linux-x86.sh\n",
    "\n",
    "* Install\n",
    "```bash\n",
    "bash Anaconda-2.3.0-Linux-x86_64.sh\n",
    "```"
   ]
  },
  {
   "cell_type": "markdown",
   "metadata": {
    "slideshow": {
     "slide_type": "subslide"
    }
   },
   "source": [
    "### Testing Anaconda Install\n",
    "\n",
    "* Verifying Anaconda install\n",
    "```bash\n",
    "conda --version\n",
    "```\n"
   ]
  },
  {
   "cell_type": "markdown",
   "metadata": {
    "slideshow": {
     "slide_type": "fragment"
    }
   },
   "source": [
    "* Updating Anaconda to current version\n",
    "```bash\n",
    "conda update conda\n",
    "```\n"
   ]
  },
  {
   "cell_type": "markdown",
   "metadata": {
    "slideshow": {
     "slide_type": "fragment"
    }
   },
   "source": [
    "\n",
    "* List installed packages\n",
    "```bash\n",
    "conda list\n",
    "```\n"
   ]
  },
  {
   "cell_type": "markdown",
   "metadata": {
    "slideshow": {
     "slide_type": "fragment"
    }
   },
   "source": [
    "\n",
    "* Search for a package\n",
    "```bash\n",
    "conda search beautifulsoup4\n",
    "```\n"
   ]
  },
  {
   "cell_type": "markdown",
   "metadata": {
    "slideshow": {
     "slide_type": "fragment"
    }
   },
   "source": [
    "\n",
    "* Install packages\n",
    "```bash\n",
    "conda install beautifulsoup4\n",
    "pip install beautifulsoup4\n",
    "pip install ipython\n",
    "```"
   ]
  },
  {
   "cell_type": "markdown",
   "metadata": {},
   "source": [
    "* Remove packages\n",
    "```bash\n",
    "conda remove beautifulsoup4\n",
    "```"
   ]
  },
  {
   "cell_type": "markdown",
   "metadata": {},
   "source": [
    "### Installing R Kernel (IRkernel)\n",
    "\n",
    "sudo apt-get install libzmq3-dev\n",
    "\n",
    "```R\n",
    "install.packages(\n",
    "  c('rzmq','repr','IRkernel','IRdisplay'),\n",
    "  repos = c('http://irkernel.github.io/', getOption('repos'))\n",
    ")\n",
    "```\n",
    "\n",
    "```R\n",
    "IRkernel::installspec()\n",
    "```\n",
    "\n",
    "* Installation: https://github.com/IRkernel/IRkernel\n",
    "* Homepage: http://irkernel.github.io/"
   ]
  },
  {
   "cell_type": "markdown",
   "metadata": {
    "slideshow": {
     "slide_type": "fragment"
    }
   },
   "source": [
    "### Start IPython Notebook Server with R kernel\n",
    "\n",
    "IPython vs Jupyter\n",
    "\n",
    "```bash\n",
    "ipython notebook\n",
    "```\n",
    "\n",
    "Choose *new* >> *R* from the dropdown list (top right corner)"
   ]
  },
  {
   "cell_type": "markdown",
   "metadata": {},
   "source": [
    "## Hands-on Part 2: Getting Started"
   ]
  },
  {
   "cell_type": "markdown",
   "metadata": {},
   "source": [
    "### IPython Basics\n",
    "\n",
    "* Hello World\n",
    "* Managing Cells\n",
    "    - Cell Types\n",
    "    - Moving Cells around\n",
    "    - Executing and Creating New Cells\n",
    "* Handling Notebooks\n",
    "    - Creating new notebooks (with different kernels)\n",
    "    - Exporting notebooks to various formats\n",
    "* Kernels\n",
    "* Handing Shortcuts\n",
    "\n",
    "IPython Homepage: https://ipython.org/"
   ]
  },
  {
   "cell_type": "markdown",
   "metadata": {},
   "source": [
    "### Markdown Basics\n",
    "\n",
    "* What is markdown?\n",
    "* Headings\n",
    "* Styling Text\n",
    "    - *italicised*\n",
    "    - **bold**\n",
    "    - ***italicised and bold***\n",
    "    - **styles _mixed_ together**\n",
    "* Unordered lists\n",
    "  - Nested Unordered Lists\n",
    "  1. Ordered Lists\n",
    "    1. Nested Lists\n",
    "    2. More Nesting\n",
    "      * More nested lists\n",
    "* Writing Code Blocks\n",
    "```R\n",
    "x = 0\n",
    "x = 2 + 2\n",
    "hist(rnorm(1000))\n",
    "```\n",
    "* Links\n",
    "  * Markdown Basics: https://help.github.com/articles/markdown-basics/\n",
    "  * [GitHub Flavored Markdown](https://help.github.com/articles/github-flavored-markdown/)"
   ]
  }
 ],
 "metadata": {
  "author_info": {
   "author": "Soumendra Dhanee",
   "date": "1st November, 2015",
   "email": "soumendra@gmail.com"
  },
  "kernelspec": {
   "display_name": "R",
   "language": "R",
   "name": "ir"
  },
  "language_info": {
   "codemirror_mode": "r",
   "file_extension": ".r",
   "mimetype": "text/x-r-source",
   "name": "R",
   "pygments_lexer": "r",
   "version": "3.2.2"
  }
 },
 "nbformat": 4,
 "nbformat_minor": 0
}
