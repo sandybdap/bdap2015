{
 "cells": [
  {
   "cell_type": "markdown",
   "metadata": {},
   "source": [
    "# 1. [4 marks] Write and submit code to load all tweets from the JSON file and store them in your local MongoDB server."
   ]
  },
  {
   "cell_type": "raw",
   "metadata": {},
   "source": [
    "Code to import twitter.json in a twitter database in MongoDB. \n",
    "\n",
    "sandipbhagyawant$ ./mongoimport --db twitter --collection twitter_data --file twitter.json\n",
    "\n",
    "2016-07-09T22:47:55.080+0530\tconnected to: localhost\n",
    "2016-07-09T22:47:57.938+0530\t[........................] twitter.twitter_data\t4.2 MB/1.3 GB (0.3%)\n",
    "2016-07-09T22:48:00.783+0530\t[........................] twitter.twitter_data\t15.9 MB/1.3 GB (1.2%)\n",
    "2016-07-09T22:48:03.779+0530\t[........................] twitter.twitter_data\t35.3 MB/1.3 GB (2.6%)\n",
    "2016-07-09T22:48:06.779+0530\t[........................] twitter.twitter_data\t48.8 MB/1.3 GB (3.6%)\n",
    ".\n",
    ".\n",
    ".\n",
    "2016-07-09T22:59:06.782+0530\t[########################] twitter.twitter_data\t1.3 GB/1.3 GB (100.0%)\n",
    "2016-07-09T22:59:06.795+0530\t[########################] twitter.twitter_data\t1.3 GB/1.3 GB (100.0%)\n",
    "2016-07-09T22:59:06.801+0530\timported 308930 documents\n",
    "\n",
    "Snapshot of the successful import is added above. \n",
    "This code to import json cannot run from Mongo shell, it needs to be run from OS command line."
   ]
  },
  {
   "cell_type": "markdown",
   "metadata": {},
   "source": [
    "# 2. [4 marks] What is the 5th most frequent hashtag in the dataset? Submit along with code. (the answer should be derived using a mongodb query)"
   ]
  },
  {
   "cell_type": "raw",
   "metadata": {},
   "source": [
    "db.twitter_data.aggregate(\n",
    "    // Project to limit the document fields included\n",
    "    { $project: {\n",
    "        _id: 0,\n",
    "        \"entities.hashtags\" : 1\n",
    "    }},\n",
    "\n",
    "    // Split user_mentions array into a stream of documents\n",
    "    { $unwind: \"$entities.hashtags\" },\n",
    "\n",
    "    // Group and count the unique mentions by screen_name\n",
    "    { $group : {\n",
    "        _id: \"$entities.hashtags.text\",\n",
    "        count: { $sum : 1 }\n",
    "    }},\n",
    "\n",
    "    // Optional: sort by count, descending\n",
    "    { $sort : {\n",
    "        \"count\" : -1\n",
    "    }},\n",
    "    \n",
    "    //limit to top 5\n",
    "    {$skip:4}, { $limit :1}\n",
    ");"
   ]
  },
  {
   "cell_type": "markdown",
   "metadata": {},
   "source": [
    "# 3. [4 marks] What is the 7th most frequent @-mention in the dataset? Submit along with code. (the answer should be derived using a mongodb query)"
   ]
  },
  {
   "cell_type": "raw",
   "metadata": {},
   "source": [
    "db.twitter_data.aggregate({ $project: { _id: 0, \"entities.user_mentions\" : 1 }},\n",
    "// Split user_mentions array into a stream of documents\n",
    "{ $unwind: \"$entities.user_mentions\" },\n",
    "\n",
    "// Group and count the unique mentions by screen_name\n",
    "{ $group : {\n",
    "        _id: \"$entities.user_mentions.screen_name\",\n",
    "        count: { $sum : 1 }\n",
    "}},\n",
    "\n",
    "// Optional: sort by count, descending\n",
    "{ $sort : {\n",
    "    \"count\" : -1\n",
    "}},\n",
    "\n",
    "//limit to top 7\n",
    "{$skip:6}, { $limit :1}\n",
    ");"
   ]
  },
  {
   "cell_type": "markdown",
   "metadata": {},
   "source": [
    "# 4. [4 marks] Which twitter user has 3rd most number of followers? Submit along with code. (the answer should be derived using a mongodb query)"
   ]
  },
  {
   "cell_type": "raw",
   "metadata": {},
   "source": [
    "db.twitter_data.find\n",
    "({\"user.followers_count\":{$ne:null,$gt:0}},\n",
    "{\"_id\":0,\"user.followers_count\":1,\"user.name\":1,\"user.screen_name\":1}).sort({\"user.followers_count\":-1}).limit(1).skip(2)"
   ]
  },
  {
   "cell_type": "markdown",
   "metadata": {},
   "source": [
    "# 5. [4 marks] Which twitter user's tweets were retweeted 8th most number of times? Submit along with code. (the answer should be derived using a mongodb query)"
   ]
  },
  {
   "cell_type": "raw",
   "metadata": {},
   "source": [
    "db.twitter_data.aggregate(\n",
    "\t[\n",
    "\t\t{ \"$group\": \n",
    "            {\"_id\": \n",
    "            {\"user.name\":\"$retweeted_status.user.name\",\"Text\": \"$retweeted_status.text\"},  \n",
    "\t\t\ttagCount: { $sum: \"$retweeted_status.retweet_count\" }}},\n",
    "\t\t\t{ $sort: { tagCount: -1 }},{$skip:7},{ $limit: 1 }\n",
    "\t]\n",
    ")"
   ]
  }
 ],
 "metadata": {
  "kernelspec": {
   "display_name": "Python 2",
   "language": "python",
   "name": "python2"
  },
  "language_info": {
   "codemirror_mode": {
    "name": "ipython",
    "version": 2
   },
   "file_extension": ".py",
   "mimetype": "text/x-python",
   "name": "python",
   "nbconvert_exporter": "python",
   "pygments_lexer": "ipython2",
   "version": "2.7.11"
  }
 },
 "nbformat": 4,
 "nbformat_minor": 0
}
